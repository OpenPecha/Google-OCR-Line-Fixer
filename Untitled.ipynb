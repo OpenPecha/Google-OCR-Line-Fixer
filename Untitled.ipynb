{
 "cells": [
  {
   "cell_type": "code",
   "execution_count": 1,
   "id": "fundamental-mustang",
   "metadata": {},
   "outputs": [],
   "source": [
    "import json\n",
    "from pathlib import Path"
   ]
  },
  {
   "cell_type": "code",
   "execution_count": 2,
   "id": "advised-julian",
   "metadata": {},
   "outputs": [],
   "source": [
    "def read_json(data):\n",
    "    return json.loads(data)"
   ]
  },
  {
   "cell_type": "code",
   "execution_count": 3,
   "id": "gentle-antigua",
   "metadata": {},
   "outputs": [],
   "source": [
    "test_page = read_json(Path('./test/test.json').read_text(encoding='utf-8'))"
   ]
  },
  {
   "cell_type": "code",
   "execution_count": 55,
   "id": "textile-banking",
   "metadata": {},
   "outputs": [],
   "source": [
    "def get_y_avg(char):\n",
    "    y1 = char['boundingPoly']['vertices'][0]['y']\n",
    "    y2 = char['boundingPoly']['vertices'][2]['y']\n",
    "    return (y1+y2)/2\n",
    "\n",
    "def is_in_cur_line(prev_char, char, avg_height):\n",
    "    prev_y_mid = get_y_avg(prev_char)\n",
    "    cur_y_mid = get_y_avg(char)\n",
    "#     print(prev_y_mid, cur_y_mid)\n",
    "    if cur_y_mid - prev_y_mid < avg_height/10:\n",
    "        return True\n",
    "    else:\n",
    "        print(prev_char, char)\n",
    "        print(cur_y_mid - prev_y_mid)\n",
    "        return False"
   ]
  },
  {
   "cell_type": "code",
   "execution_count": 56,
   "id": "direct-lexington",
   "metadata": {},
   "outputs": [],
   "source": [
    "def get_avg_line_height(chars):\n",
    "    height_sum = 0\n",
    "    for char in chars:\n",
    "        y1 = char['boundingPoly']['vertices'][0]['y']\n",
    "        y2 = char['boundingPoly']['vertices'][2]['y']\n",
    "        height_sum += y2-y1\n",
    "    avg_height = height_sum/len(chars)\n",
    "    return avg_height"
   ]
  },
  {
   "cell_type": "code",
   "execution_count": 62,
   "id": "little-active",
   "metadata": {},
   "outputs": [],
   "source": [
    "chars = test_page['textAnnotations'][1:]"
   ]
  },
  {
   "cell_type": "code",
   "execution_count": 63,
   "id": "desperate-summary",
   "metadata": {},
   "outputs": [],
   "source": [
    "def get_lines(chars):\n",
    "    prev_char = chars[1]\n",
    "    lines = []\n",
    "    cur_line = ''\n",
    "    avg_line_height = get_avg_line_height(chars)\n",
    "    print(avg_line_height)\n",
    "    for char in chars:\n",
    "        if is_in_cur_line(prev_char, char, avg_line_height):\n",
    "            cur_line += char['description']\n",
    "        else:\n",
    "            lines.append(cur_line)\n",
    "            cur_line = char['description']\n",
    "        prev_char = char\n",
    "    if cur_line:\n",
    "        lines.append(cur_line)\n",
    "    return lines"
   ]
  },
  {
   "cell_type": "code",
   "execution_count": 64,
   "id": "intense-snowboard",
   "metadata": {},
   "outputs": [
    {
     "name": "stdout",
     "output_type": "stream",
     "text": [
      "68.55147058823529\n",
      "{'description': 'Tangyur', 'boundingPoly': {'vertices': [{'x': 405, 'y': 34}, {'x': 481, 'y': 34}, {'x': 481, 'y': 56}, {'x': 405, 'y': 56}]}} {'description': 'Powered', 'boundingPoly': {'vertices': [{'x': 47, 'y': 59}, {'x': 122, 'y': 59}, {'x': 122, 'y': 81}, {'x': 47, 'y': 81}]}}\n",
      "25.0\n",
      "{'description': 'at', 'boundingPoly': {'vertices': [{'x': 2910, 'y': 33}, {'x': 2926, 'y': 33}, {'x': 2926, 'y': 55}, {'x': 2910, 'y': 55}]}} {'description': 'Tibet', 'boundingPoly': {'vertices': [{'x': 2709, 'y': 58}, {'x': 2755, 'y': 58}, {'x': 2755, 'y': 78}, {'x': 2709, 'y': 78}]}}\n",
      "24.0\n",
      "{'description': 'Delhi', 'boundingPoly': {'vertices': [{'x': 2876, 'y': 58}, {'x': 2922, 'y': 58}, {'x': 2922, 'y': 78}, {'x': 2876, 'y': 78}]}} {'description': 'པོད', 'boundingPoly': {'vertices': [{'x': 1514, 'y': 68}, {'x': 1540, 'y': 69}, {'x': 1539, 'y': 101}, {'x': 1513, 'y': 100}]}}\n",
      "16.5\n",
      "{'description': '）', 'boundingPoly': {'vertices': [{'x': 1591, 'y': 71}, {'x': 1597, 'y': 71}, {'x': 1596, 'y': 103}, {'x': 1590, 'y': 103}]}} {'description': 'དག་', 'boundingPoly': {'vertices': [{'x': 230, 'y': 210}, {'x': 276, 'y': 212}, {'x': 274, 'y': 275}, {'x': 228, 'y': 273}]}}\n",
      "155.5\n",
      "{'description': 'དཔོན་', 'boundingPoly': {'vertices': [{'x': 2782, 'y': 313}, {'x': 2834, 'y': 313}, {'x': 2834, 'y': 374}, {'x': 2782, 'y': 374}]}} {'description': 'ན་', 'boundingPoly': {'vertices': [{'x': 239, 'y': 317}, {'x': 253, 'y': 317}, {'x': 252, 'y': 388}, {'x': 238, 'y': 388}]}}\n",
      "9.0\n",
      "{'description': '།', 'boundingPoly': {'vertices': [{'x': 2774, 'y': 463}, {'x': 2829, 'y': 464}, {'x': 2828, 'y': 529}, {'x': 2773, 'y': 528}]}} {'description': 'ཀྱི་', 'boundingPoly': {'vertices': [{'x': 217, 'y': 471}, {'x': 264, 'y': 472}, {'x': 263, 'y': 540}, {'x': 216, 'y': 539}]}}\n",
      "9.5\n",
      "{'description': 'ཀྱི་', 'boundingPoly': {'vertices': [{'x': 2799, 'y': 517}, {'x': 2816, 'y': 517}, {'x': 2815, 'y': 584}, {'x': 2798, 'y': 584}]}} {'description': 'ཆུ་', 'boundingPoly': {'vertices': [{'x': 214, 'y': 523}, {'x': 257, 'y': 524}, {'x': 256, 'y': 598}, {'x': 213, 'y': 597}]}}\n",
      "10.0\n"
     ]
    }
   ],
   "source": [
    "lines = get_lines(chars)"
   ]
  },
  {
   "cell_type": "code",
   "execution_count": 65,
   "id": "generic-czech",
   "metadata": {},
   "outputs": [
    {
     "data": {
      "text/plain": [
       "['Digital-ReplicaEdition,NarthangTangyur',\n",
       " 'PoweredbyShantarakshitaLibrary,CUTS,Varanasiསྣར་ཐང་བསྟན་འགྱུར།བསྟོད་ཚོགManuscriptpreservedat',\n",
       " 'TibetHouse,NewDelhi',\n",
       " 'པོད།༡(ཀ）',\n",
       " 'དག་ན་རེངབདཀི་གྱི་ལས་ལ་ཉོན་མོངས་པ་མནང་པར་པ་སྤྱོད་པ་ཡིན་པར་ཡོང་རང་གི་ངོད་པར་ཁས་བླངས་པའི་རེ་བྱེད་ཀྱི་ཆ་དག་ལས་འབྱུང་ལ།སངས་རྒྱས་བཅོམ་ལྡན་འདསན་གཞན་གདུལ་བའི་ཕྱིར་སྤྲུལ་པའི་ལུས་ལས་སྟོབས་ཀྱིས་བཅོས་ཏེ།ཞེ་སྡང་པ་གས་པ་དང་འབྲེལ་པའི་སྤྱོད་པ་ལྟ་བུར་སྟོན་པ་ཡོན་པས་དཔ་ཨངས།གལ་ཏེ་དཔང་ཕྱུག་ལ་སོས་པའང་སྤྲུལ་པ་རི་ལས་ཉོན་མོངས་པ་དང་འབྲེལ་པ་ལྟ་བུར་སྟོན་པ་ཡནེགྱི།རང་བཞིན་གྱི་ལུས་ནི་ཉོན་མོངས་པ་ཡིན་ནོ།-སྙམན་དེ་ལྟ་དཔོན་',\n",
       " 'ན་མི་བརྒྱུད་བོད་ཀྱི།འོན་ཀྱང་ཁྱེད་རང་གི་གཞུང་ལས།དབང་ཕྱུག་ཆེན་པོའི་རིང་བཞིན་གླུ་ལུས་ད་ཀྱཚོངས་པ་བསད་པ་དང་།ཁྱབ་འཇུབའི་སྡང་གི་བསམ་པས་སྒྲ་ངན་བརླག་པར་བྱས།།ཞེས་འབྱུང་བ་ལ་སོགས་པརྣམས་དང་འགལ་བར་འགྱུར།།སྨྱུ་པོ་ཉོནཡོངས་བཅས་བའི་ཚིག་ཅེས་བྱ་བ་ལ་སོགས་བ་ལ།སྐྱ་བོ་ན་རྫོད་པར་དཔ་པའོ།།དེ་ཉིད་ཉོནམོངས་བཅས་པ་སྟེ།རང་གི་ཕྱོགས་ལ་མངོན་པར་ཞེན་ཅིང་།གཞནགྱི་ཕྱོགས་ལ་ཞེ་སྡང་ཡ།ཐམས་ཅད་དུ་བདག་ཏུ་འཛིན་པས་གཟརིབའི་ཉོན་མོངས་པ་=མུམ་དང་རྗེས་འབྲེལ་པ་གྲང་ཡཞི་པའོ།།ངེས་བྱས་པའི་གན་དེ་ཚིག་སྟེ།རིག་བྱེད་ལ་སོགས་པའོ།།དེ་ཉིད་རིག་བྱེད་ལ་སོགས་པའང་ཡཞེ་ལ།ཆིག་ཀྱང་ཡིན་པས་ག་བྱེད་ལ་སོགས་པའཚིག་སྟེ།ངེས་བརྗོད་ལ་སོགས་པའི་རིག་བྱེད།',\n",
       " 'ཀྱི་སྒྲུར་རྒྱས་པས་སྦྱར་བའི་སྐྱ་བསེང་གིརབསདང་།གྲོག་མར་བྱ་སྦྱར་བའི་དགའ་བྱེད་ཀྱི་འཇུག་པ་ལ་སོགས་པ་གཏུ།།གལ་ཏེ་སྐྱ་བསེང་གི་རབས་ལ་སོགས་ར་དག་སྐྱེས་བུས་བྱས་པས་ཆོག་ཉིད་ཡན་དུ་བཅུག་ཀྱང༌།རིག་བྱེད་ནི་ཉེས་པ་ཐམས་ཅུད་ཀྱི་',\n",
       " 'ཆུ་སྐྱེས་བུས་མ་བྱས་པའི་སྐྱེས་བའི་ཚིག་ག་ལ་ཡིན་སྙམན།འདི་ནི་ཆོས་མ་འབྲེལཏེ།འདི་ལྟར་རིག་བྱེད་ཀྱང་སྐྱེས་བའི་ཚིག་ཡིནེ་ཏེ།སྐྱེས་བུའི་དུ་བྱེད་པ་ལས་བྱུང་བའི་ཕྱིར།དཔེརནདགའ་བྱེད་ཀྱི་འཇུག་པ་བཞིན་ཞེས་བྱ་བ་ལ་སོགས་པས་ཤེས་པར་ནུས་ཏེ78']"
      ]
     },
     "execution_count": 65,
     "metadata": {},
     "output_type": "execute_result"
    }
   ],
   "source": [
    "lines"
   ]
  },
  {
   "cell_type": "code",
   "execution_count": 66,
   "id": "limited-village",
   "metadata": {},
   "outputs": [
    {
     "data": {
      "text/plain": [
       "'Digital-ReplicaEdition,NarthangTangyur\\nPoweredbyShantarakshitaLibrary,CUTS,Varanasiསྣར་ཐང་བསྟན་འགྱུར།བསྟོད་ཚོགManuscriptpreservedat\\nTibetHouse,NewDelhi\\nཔོད།༡(ཀ）\\nདག་ན་རེངབདཀི་གྱི་ལས་ལ་ཉོན་མོངས་པ་མནང་པར་པ་སྤྱོད་པ་ཡིན་པར་ཡོང་རང་གི་ངོད་པར་ཁས་བླངས་པའི་རེ་བྱེད་ཀྱི་ཆ་དག་ལས་འབྱུང་ལ།སངས་རྒྱས་བཅོམ་ལྡན་འདསན་གཞན་གདུལ་བའི་ཕྱིར་སྤྲུལ་པའི་ལུས་ལས་སྟོབས་ཀྱིས་བཅོས་ཏེ།ཞེ་སྡང་པ་གས་པ་དང་འབྲེལ་པའི་སྤྱོད་པ་ལྟ་བུར་སྟོན་པ་ཡོན་པས་དཔ་ཨངས།གལ་ཏེ་དཔང་ཕྱུག་ལ་སོས་པའང་སྤྲུལ་པ་རི་ལས་ཉོན་མོངས་པ་དང་འབྲེལ་པ་ལྟ་བུར་སྟོན་པ་ཡནེགྱི།རང་བཞིན་གྱི་ལུས་ནི་ཉོན་མོངས་པ་ཡིན་ནོ།-སྙམན་དེ་ལྟ་དཔོན་\\nན་མི་བརྒྱུད་བོད་ཀྱི།འོན་ཀྱང་ཁྱེད་རང་གི་གཞུང་ལས།དབང་ཕྱུག་ཆེན་པོའི་རིང་བཞིན་གླུ་ལུས་ད་ཀྱཚོངས་པ་བསད་པ་དང་།ཁྱབ་འཇུབའི་སྡང་གི་བསམ་པས་སྒྲ་ངན་བརླག་པར་བྱས།།ཞེས་འབྱུང་བ་ལ་སོགས་པརྣམས་དང་འགལ་བར་འགྱུར།།སྨྱུ་པོ་ཉོནཡོངས་བཅས་བའི་ཚིག་ཅེས་བྱ་བ་ལ་སོགས་བ་ལ།སྐྱ་བོ་ན་རྫོད་པར་དཔ་པའོ།།དེ་ཉིད་ཉོནམོངས་བཅས་པ་སྟེ།རང་གི་ཕྱོགས་ལ་མངོན་པར་ཞེན་ཅིང་།གཞནགྱི་ཕྱོགས་ལ་ཞེ་སྡང་ཡ།ཐམས་ཅད་དུ་བདག་ཏུ་འཛིན་པས་གཟརིབའི་ཉོན་མོངས་པ་=མུམ་དང་རྗེས་འབྲེལ་པ་གྲང་ཡཞི་པའོ།།ངེས་བྱས་པའི་གན་དེ་ཚིག་སྟེ།རིག་བྱེད་ལ་སོགས་པའོ།།དེ་ཉིད་རིག་བྱེད་ལ་སོགས་པའང་ཡཞེ་ལ།ཆིག་ཀྱང་ཡིན་པས་ག་བྱེད་ལ་སོགས་པའཚིག་སྟེ།ངེས་བརྗོད་ལ་སོགས་པའི་རིག་བྱེད།\\nཀྱི་སྒྲུར་རྒྱས་པས་སྦྱར་བའི་སྐྱ་བསེང་གིརབསདང་།གྲོག་མར་བྱ་སྦྱར་བའི་དགའ་བྱེད་ཀྱི་འཇུག་པ་ལ་སོགས་པ་གཏུ།།གལ་ཏེ་སྐྱ་བསེང་གི་རབས་ལ་སོགས་ར་དག་སྐྱེས་བུས་བྱས་པས་ཆོག་ཉིད་ཡན་དུ་བཅུག་ཀྱང༌།རིག་བྱེད་ནི་ཉེས་པ་ཐམས་ཅུད་ཀྱི་\\nཆུ་སྐྱེས་བུས་མ་བྱས་པའི་སྐྱེས་བའི་ཚིག་ག་ལ་ཡིན་སྙམན།འདི་ནི་ཆོས་མ་འབྲེལཏེ།འདི་ལྟར་རིག་བྱེད་ཀྱང་སྐྱེས་བའི་ཚིག་ཡིནེ་ཏེ།སྐྱེས་བུའི་དུ་བྱེད་པ་ལས་བྱུང་བའི་ཕྱིར།དཔེརནདགའ་བྱེད་ཀྱི་འཇུག་པ་བཞིན་ཞེས་བྱ་བ་ལ་སོགས་པས་ཤེས་པར་ནུས་ཏེ78'"
      ]
     },
     "execution_count": 66,
     "metadata": {},
     "output_type": "execute_result"
    }
   ],
   "source": [
    "\"\\n\".join(lines)"
   ]
  },
  {
   "cell_type": "code",
   "execution_count": null,
   "id": "916a4351",
   "metadata": {},
   "outputs": [],
   "source": []
  }
 ],
 "metadata": {
  "kernelspec": {
   "display_name": "Python 3",
   "language": "python",
   "name": "python3"
  },
  "language_info": {
   "codemirror_mode": {
    "name": "ipython",
    "version": 3
   },
   "file_extension": ".py",
   "mimetype": "text/x-python",
   "name": "python",
   "nbconvert_exporter": "python",
   "pygments_lexer": "ipython3",
   "version": "3.8.5"
  }
 },
 "nbformat": 4,
 "nbformat_minor": 5
}
